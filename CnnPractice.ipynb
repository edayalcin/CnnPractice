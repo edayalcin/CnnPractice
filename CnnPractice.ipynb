{
  "nbformat": 4,
  "nbformat_minor": 0,
  "metadata": {
    "colab": {
      "provenance": []
    },
    "kernelspec": {
      "name": "python3",
      "display_name": "Python 3"
    },
    "language_info": {
      "name": "python"
    }
  },
  "cells": [
    {
      "cell_type": "code",
      "execution_count": 1,
      "metadata": {
        "id": "Uf2a9FEFZ-c5"
      },
      "outputs": [],
      "source": [
        "from tensorflow.keras.models import Model\n",
        "from tensorflow.keras.layers import Input, Conv2D, BatchNormalization, Activation, MaxPooling2D, Concatenate, Dropout, Flatten, Dense\n",
        "from tensorflow.keras.models import save_model\n",
        "from google.colab import files"
      ]
    },
    {
      "cell_type": "code",
      "source": [
        "input_layer = Input(shape=(224, 224, 3))"
      ],
      "metadata": {
        "id": "cs1zLs_taBvm"
      },
      "execution_count": 2,
      "outputs": []
    },
    {
      "cell_type": "code",
      "source": [
        "conv1 = Conv2D(64, kernel_size=(7, 7), strides=(2, 2), padding='same')(input_layer)\n",
        "bn1 = BatchNormalization()(conv1)\n",
        "activation1 = Activation('relu')(bn1)\n",
        "pool1 = MaxPooling2D(pool_size=(2, 2))(activation1)"
      ],
      "metadata": {
        "id": "qCMp344saHxI"
      },
      "execution_count": 3,
      "outputs": []
    },
    {
      "cell_type": "code",
      "source": [
        "conv2_1 = Conv2D(64, kernel_size=(1, 1), strides=(2, 2), padding='same')(pool1)\n",
        "bn2_1 = BatchNormalization()(conv2_1)\n",
        "activation2_1 = Activation('relu')(bn2_1)\n",
        "conv2_2 = Conv2D(64, kernel_size=(3, 3), strides=(1, 1), padding='same')(activation2_1)\n",
        "bn2_2 = BatchNormalization()(conv2_2)\n",
        "activation2_2 = Activation('relu')(bn2_2)\n",
        "conv2_3 = Conv2D(256, kernel_size=(1, 1), strides=(1, 1),padding='same')(activation2_2)\n",
        "bn2_3 = BatchNormalization()(conv2_3)\n",
        "activation2_3 = Activation('relu')(bn2_3)"
      ],
      "metadata": {
        "id": "729lUG0PaKek"
      },
      "execution_count": 4,
      "outputs": []
    },
    {
      "cell_type": "code",
      "source": [
        "conv2_4 = Conv2D(64, kernel_size=(1, 1), strides=(2, 2), padding='same')(pool1)\n",
        "bn2_4 = BatchNormalization()(conv2_4)\n",
        "activation2_4 = Activation('relu')(bn2_4)\n",
        "conv2_5 = Conv2D(256, kernel_size=(3, 3), strides=(1, 1), padding='same')(activation2_4)\n",
        "bn2_5 = BatchNormalization()(conv2_5)\n",
        "activation2_5 = Activation('relu')(bn2_5)"
      ],
      "metadata": {
        "id": "n13NZQqvaPXx"
      },
      "execution_count": 5,
      "outputs": []
    },
    {
      "cell_type": "code",
      "source": [
        "conv2_6 = Conv2D(256, kernel_size=(1, 1), strides=(2, 2), padding='same')(pool1)\n",
        "bn2_6 = BatchNormalization()(conv2_6)\n",
        "activation2_6 = Activation('relu')(bn2_6)"
      ],
      "metadata": {
        "id": "70LBRcvsjIVK"
      },
      "execution_count": 6,
      "outputs": []
    },
    {
      "cell_type": "code",
      "source": [
        "concat = Concatenate()([activation2_3, activation2_5, activation2_6])"
      ],
      "metadata": {
        "id": "cwgWTQRXaRck"
      },
      "execution_count": 7,
      "outputs": []
    },
    {
      "cell_type": "code",
      "source": [
        "pool2 = MaxPooling2D(pool_size=(2, 2))(concat)"
      ],
      "metadata": {
        "id": "8GHPoBpeaThy"
      },
      "execution_count": 8,
      "outputs": []
    },
    {
      "cell_type": "code",
      "source": [
        "conv2_7 = Conv2D(128, kernel_size=(1, 1), strides=(2, 2), padding='same')(pool2)\n",
        "bn2_7 = BatchNormalization()(conv2_7)\n",
        "activation2_7 = Activation('relu')(bn2_7)\n",
        "conv2_8 = Conv2D(128, kernel_size=(3, 3), strides=(1, 1), padding='same')(activation2_7)\n",
        "bn2_8 = BatchNormalization()(conv2_8)\n",
        "activation2_8 = Activation('relu')(bn2_8)\n",
        "conv2_9 = Conv2D(512, kernel_size=(1, 1), strides=(1, 1),padding='same')(activation2_8)\n",
        "bn2_9 = BatchNormalization()(conv2_9)\n",
        "activation2_9 = Activation('relu')(bn2_9)"
      ],
      "metadata": {
        "id": "rDQCOB38aVNn"
      },
      "execution_count": 9,
      "outputs": []
    },
    {
      "cell_type": "code",
      "source": [
        "conv2_10 = Conv2D(128, kernel_size=(1, 1), strides=(2, 2), padding='same')(pool2)\n",
        "bn2_10 = BatchNormalization()(conv2_10)\n",
        "activation2_10 = Activation('relu')(bn2_10)\n",
        "conv2_11 = Conv2D(512, kernel_size=(3, 3), strides=(1, 1), padding='same')(activation2_10)\n",
        "bn2_11 = BatchNormalization()(conv2_11)\n",
        "activation2_11 = Activation('relu')(bn2_11)"
      ],
      "metadata": {
        "id": "WnhkdRftaXG5"
      },
      "execution_count": 10,
      "outputs": []
    },
    {
      "cell_type": "code",
      "source": [
        "conv2_12 = Conv2D(512, kernel_size=(1, 1), strides=(2, 2), padding='same')(pool2)\n",
        "bn2_12 = BatchNormalization()(conv2_12)\n",
        "activation2_12 = Activation('relu')(bn2_12)"
      ],
      "metadata": {
        "id": "EFxVOxL4aZLa"
      },
      "execution_count": 11,
      "outputs": []
    },
    {
      "cell_type": "code",
      "source": [
        "concat2 = Concatenate()([activation2_9, activation2_11, activation2_12])"
      ],
      "metadata": {
        "id": "4pWgMqWmacNC"
      },
      "execution_count": 12,
      "outputs": []
    },
    {
      "cell_type": "code",
      "source": [
        "pool3 = MaxPooling2D(pool_size=(2, 2))(concat2)"
      ],
      "metadata": {
        "id": "Cy4iyF02aeIv"
      },
      "execution_count": 13,
      "outputs": []
    },
    {
      "cell_type": "code",
      "source": [
        "conv2_13 = Conv2D(784, kernel_size=(3, 3), strides=(1, 1))(pool3)\n",
        "activation2_13 = Activation('relu')(conv2_13)"
      ],
      "metadata": {
        "id": "gsHPCQUMmive"
      },
      "execution_count": 14,
      "outputs": []
    },
    {
      "cell_type": "code",
      "source": [
        "dropout = Dropout(0.3)(activation2_13)"
      ],
      "metadata": {
        "id": "vqYuH9JgafxX"
      },
      "execution_count": 15,
      "outputs": []
    },
    {
      "cell_type": "code",
      "source": [
        "flatten = Flatten()(dropout)\n",
        "dense = Dense(10, activation='softmax')(flatten)"
      ],
      "metadata": {
        "id": "1h2N_2JYahSS"
      },
      "execution_count": 16,
      "outputs": []
    },
    {
      "cell_type": "code",
      "source": [
        "model = Model(inputs=input_layer, outputs=dense)"
      ],
      "metadata": {
        "id": "pT90tRmcaj2T"
      },
      "execution_count": 17,
      "outputs": []
    },
    {
      "cell_type": "code",
      "source": [
        "model.summary()"
      ],
      "metadata": {
        "colab": {
          "base_uri": "https://localhost:8080/"
        },
        "id": "uRjOsqj-al--",
        "outputId": "1464f829-e8b2-42b0-afd0-d4b3e54ec5c9"
      },
      "execution_count": 18,
      "outputs": [
        {
          "output_type": "stream",
          "name": "stdout",
          "text": [
            "Model: \"model\"\n",
            "__________________________________________________________________________________________________\n",
            " Layer (type)                   Output Shape         Param #     Connected to                     \n",
            "==================================================================================================\n",
            " input_1 (InputLayer)           [(None, 224, 224, 3  0           []                               \n",
            "                                )]                                                                \n",
            "                                                                                                  \n",
            " conv2d (Conv2D)                (None, 112, 112, 64  9472        ['input_1[0][0]']                \n",
            "                                )                                                                 \n",
            "                                                                                                  \n",
            " batch_normalization (BatchNorm  (None, 112, 112, 64  256        ['conv2d[0][0]']                 \n",
            " alization)                     )                                                                 \n",
            "                                                                                                  \n",
            " activation (Activation)        (None, 112, 112, 64  0           ['batch_normalization[0][0]']    \n",
            "                                )                                                                 \n",
            "                                                                                                  \n",
            " max_pooling2d (MaxPooling2D)   (None, 56, 56, 64)   0           ['activation[0][0]']             \n",
            "                                                                                                  \n",
            " conv2d_1 (Conv2D)              (None, 28, 28, 64)   4160        ['max_pooling2d[0][0]']          \n",
            "                                                                                                  \n",
            " batch_normalization_1 (BatchNo  (None, 28, 28, 64)  256         ['conv2d_1[0][0]']               \n",
            " rmalization)                                                                                     \n",
            "                                                                                                  \n",
            " activation_1 (Activation)      (None, 28, 28, 64)   0           ['batch_normalization_1[0][0]']  \n",
            "                                                                                                  \n",
            " conv2d_2 (Conv2D)              (None, 28, 28, 64)   36928       ['activation_1[0][0]']           \n",
            "                                                                                                  \n",
            " conv2d_4 (Conv2D)              (None, 28, 28, 64)   4160        ['max_pooling2d[0][0]']          \n",
            "                                                                                                  \n",
            " batch_normalization_2 (BatchNo  (None, 28, 28, 64)  256         ['conv2d_2[0][0]']               \n",
            " rmalization)                                                                                     \n",
            "                                                                                                  \n",
            " batch_normalization_4 (BatchNo  (None, 28, 28, 64)  256         ['conv2d_4[0][0]']               \n",
            " rmalization)                                                                                     \n",
            "                                                                                                  \n",
            " activation_2 (Activation)      (None, 28, 28, 64)   0           ['batch_normalization_2[0][0]']  \n",
            "                                                                                                  \n",
            " activation_4 (Activation)      (None, 28, 28, 64)   0           ['batch_normalization_4[0][0]']  \n",
            "                                                                                                  \n",
            " conv2d_3 (Conv2D)              (None, 28, 28, 256)  16640       ['activation_2[0][0]']           \n",
            "                                                                                                  \n",
            " conv2d_5 (Conv2D)              (None, 28, 28, 256)  147712      ['activation_4[0][0]']           \n",
            "                                                                                                  \n",
            " conv2d_6 (Conv2D)              (None, 28, 28, 256)  16640       ['max_pooling2d[0][0]']          \n",
            "                                                                                                  \n",
            " batch_normalization_3 (BatchNo  (None, 28, 28, 256)  1024       ['conv2d_3[0][0]']               \n",
            " rmalization)                                                                                     \n",
            "                                                                                                  \n",
            " batch_normalization_5 (BatchNo  (None, 28, 28, 256)  1024       ['conv2d_5[0][0]']               \n",
            " rmalization)                                                                                     \n",
            "                                                                                                  \n",
            " batch_normalization_6 (BatchNo  (None, 28, 28, 256)  1024       ['conv2d_6[0][0]']               \n",
            " rmalization)                                                                                     \n",
            "                                                                                                  \n",
            " activation_3 (Activation)      (None, 28, 28, 256)  0           ['batch_normalization_3[0][0]']  \n",
            "                                                                                                  \n",
            " activation_5 (Activation)      (None, 28, 28, 256)  0           ['batch_normalization_5[0][0]']  \n",
            "                                                                                                  \n",
            " activation_6 (Activation)      (None, 28, 28, 256)  0           ['batch_normalization_6[0][0]']  \n",
            "                                                                                                  \n",
            " concatenate (Concatenate)      (None, 28, 28, 768)  0           ['activation_3[0][0]',           \n",
            "                                                                  'activation_5[0][0]',           \n",
            "                                                                  'activation_6[0][0]']           \n",
            "                                                                                                  \n",
            " max_pooling2d_1 (MaxPooling2D)  (None, 14, 14, 768)  0          ['concatenate[0][0]']            \n",
            "                                                                                                  \n",
            " conv2d_7 (Conv2D)              (None, 7, 7, 128)    98432       ['max_pooling2d_1[0][0]']        \n",
            "                                                                                                  \n",
            " batch_normalization_7 (BatchNo  (None, 7, 7, 128)   512         ['conv2d_7[0][0]']               \n",
            " rmalization)                                                                                     \n",
            "                                                                                                  \n",
            " activation_7 (Activation)      (None, 7, 7, 128)    0           ['batch_normalization_7[0][0]']  \n",
            "                                                                                                  \n",
            " conv2d_8 (Conv2D)              (None, 7, 7, 128)    147584      ['activation_7[0][0]']           \n",
            "                                                                                                  \n",
            " conv2d_10 (Conv2D)             (None, 7, 7, 128)    98432       ['max_pooling2d_1[0][0]']        \n",
            "                                                                                                  \n",
            " batch_normalization_8 (BatchNo  (None, 7, 7, 128)   512         ['conv2d_8[0][0]']               \n",
            " rmalization)                                                                                     \n",
            "                                                                                                  \n",
            " batch_normalization_10 (BatchN  (None, 7, 7, 128)   512         ['conv2d_10[0][0]']              \n",
            " ormalization)                                                                                    \n",
            "                                                                                                  \n",
            " activation_8 (Activation)      (None, 7, 7, 128)    0           ['batch_normalization_8[0][0]']  \n",
            "                                                                                                  \n",
            " activation_10 (Activation)     (None, 7, 7, 128)    0           ['batch_normalization_10[0][0]'] \n",
            "                                                                                                  \n",
            " conv2d_9 (Conv2D)              (None, 7, 7, 512)    66048       ['activation_8[0][0]']           \n",
            "                                                                                                  \n",
            " conv2d_11 (Conv2D)             (None, 7, 7, 512)    590336      ['activation_10[0][0]']          \n",
            "                                                                                                  \n",
            " conv2d_12 (Conv2D)             (None, 7, 7, 512)    393728      ['max_pooling2d_1[0][0]']        \n",
            "                                                                                                  \n",
            " batch_normalization_9 (BatchNo  (None, 7, 7, 512)   2048        ['conv2d_9[0][0]']               \n",
            " rmalization)                                                                                     \n",
            "                                                                                                  \n",
            " batch_normalization_11 (BatchN  (None, 7, 7, 512)   2048        ['conv2d_11[0][0]']              \n",
            " ormalization)                                                                                    \n",
            "                                                                                                  \n",
            " batch_normalization_12 (BatchN  (None, 7, 7, 512)   2048        ['conv2d_12[0][0]']              \n",
            " ormalization)                                                                                    \n",
            "                                                                                                  \n",
            " activation_9 (Activation)      (None, 7, 7, 512)    0           ['batch_normalization_9[0][0]']  \n",
            "                                                                                                  \n",
            " activation_11 (Activation)     (None, 7, 7, 512)    0           ['batch_normalization_11[0][0]'] \n",
            "                                                                                                  \n",
            " activation_12 (Activation)     (None, 7, 7, 512)    0           ['batch_normalization_12[0][0]'] \n",
            "                                                                                                  \n",
            " concatenate_1 (Concatenate)    (None, 7, 7, 1536)   0           ['activation_9[0][0]',           \n",
            "                                                                  'activation_11[0][0]',          \n",
            "                                                                  'activation_12[0][0]']          \n",
            "                                                                                                  \n",
            " max_pooling2d_2 (MaxPooling2D)  (None, 3, 3, 1536)  0           ['concatenate_1[0][0]']          \n",
            "                                                                                                  \n",
            " conv2d_13 (Conv2D)             (None, 1, 1, 784)    10838800    ['max_pooling2d_2[0][0]']        \n",
            "                                                                                                  \n",
            " activation_13 (Activation)     (None, 1, 1, 784)    0           ['conv2d_13[0][0]']              \n",
            "                                                                                                  \n",
            " dropout (Dropout)              (None, 1, 1, 784)    0           ['activation_13[0][0]']          \n",
            "                                                                                                  \n",
            " flatten (Flatten)              (None, 784)          0           ['dropout[0][0]']                \n",
            "                                                                                                  \n",
            " dense (Dense)                  (None, 10)           7850        ['flatten[0][0]']                \n",
            "                                                                                                  \n",
            "==================================================================================================\n",
            "Total params: 12,488,698\n",
            "Trainable params: 12,482,810\n",
            "Non-trainable params: 5,888\n",
            "__________________________________________________________________________________________________\n"
          ]
        }
      ]
    },
    {
      "cell_type": "code",
      "source": [
        "model.save('deeplearninghw.h5')"
      ],
      "metadata": {
        "colab": {
          "base_uri": "https://localhost:8080/"
        },
        "id": "NOcMIbH1anp7",
        "outputId": "348b822a-14f0-48a1-caef-d0110512780a"
      },
      "execution_count": 19,
      "outputs": [
        {
          "output_type": "stream",
          "name": "stderr",
          "text": [
            "WARNING:tensorflow:Compiled the loaded model, but the compiled metrics have yet to be built. `model.compile_metrics` will be empty until you train or evaluate the model.\n"
          ]
        }
      ]
    },
    {
      "cell_type": "code",
      "source": [
        "files.download('deeplearninghw.h5')"
      ],
      "metadata": {
        "colab": {
          "base_uri": "https://localhost:8080/",
          "height": 17
        },
        "id": "TSjINk9HbzOH",
        "outputId": "42170e2f-8ed7-461c-d1bb-32b67bfb1d7f"
      },
      "execution_count": 20,
      "outputs": [
        {
          "output_type": "display_data",
          "data": {
            "text/plain": [
              "<IPython.core.display.Javascript object>"
            ],
            "application/javascript": [
              "\n",
              "    async function download(id, filename, size) {\n",
              "      if (!google.colab.kernel.accessAllowed) {\n",
              "        return;\n",
              "      }\n",
              "      const div = document.createElement('div');\n",
              "      const label = document.createElement('label');\n",
              "      label.textContent = `Downloading \"${filename}\": `;\n",
              "      div.appendChild(label);\n",
              "      const progress = document.createElement('progress');\n",
              "      progress.max = size;\n",
              "      div.appendChild(progress);\n",
              "      document.body.appendChild(div);\n",
              "\n",
              "      const buffers = [];\n",
              "      let downloaded = 0;\n",
              "\n",
              "      const channel = await google.colab.kernel.comms.open(id);\n",
              "      // Send a message to notify the kernel that we're ready.\n",
              "      channel.send({})\n",
              "\n",
              "      for await (const message of channel.messages) {\n",
              "        // Send a message to notify the kernel that we're ready.\n",
              "        channel.send({})\n",
              "        if (message.buffers) {\n",
              "          for (const buffer of message.buffers) {\n",
              "            buffers.push(buffer);\n",
              "            downloaded += buffer.byteLength;\n",
              "            progress.value = downloaded;\n",
              "          }\n",
              "        }\n",
              "      }\n",
              "      const blob = new Blob(buffers, {type: 'application/binary'});\n",
              "      const a = document.createElement('a');\n",
              "      a.href = window.URL.createObjectURL(blob);\n",
              "      a.download = filename;\n",
              "      div.appendChild(a);\n",
              "      a.click();\n",
              "      div.remove();\n",
              "    }\n",
              "  "
            ]
          },
          "metadata": {}
        },
        {
          "output_type": "display_data",
          "data": {
            "text/plain": [
              "<IPython.core.display.Javascript object>"
            ],
            "application/javascript": [
              "download(\"download_262f4b95-862f-4862-ba40-da60c8d52189\", \"deeplearninghw.h5\", 50098856)"
            ]
          },
          "metadata": {}
        }
      ]
    },
    {
      "cell_type": "code",
      "source": [],
      "metadata": {
        "id": "vu9Hvo2rchZf"
      },
      "execution_count": null,
      "outputs": []
    }
  ]
}